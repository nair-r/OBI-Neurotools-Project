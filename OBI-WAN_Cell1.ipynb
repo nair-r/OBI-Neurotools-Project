{
 "cells": [
  {
   "cell_type": "markdown",
   "metadata": {},
   "source": [
    "This portion of the tutorial takes MRI DICOM images and converts them into a BIDS compliant structure. It uses a dockerized image of the Python based BIDS convertor found here (https://github.com/jmtyszka/bidskit)\n",
    "\n",
    "All you need to do is ensure that docker is installed and running on your system before continuing on.\n",
    "\n",
    "The following cell downloads the DICOM to BIDS convertor docker image from dockerhub onto your local system. (https://hub.docker.com/r/rnair07/bidskit/)"
   ]
  },
  {
   "cell_type": "code",
   "execution_count": 4,
   "metadata": {},
   "outputs": [
    {
     "name": "stdout",
     "output_type": "stream",
     "text": [
      "v1.0: Pulling from rnair07/bidskit\r\n",
      "Digest: sha256:0e71b18ea40c6f51cabb33ae5efbc707aaab3fcb373109c7f3cc9752c0f3baa0\r\n",
      "Status: Image is up to date for rnair07/bidskit:v1.0\r\n"
     ]
    }
   ],
   "source": [
    "!docker pull rnair07/bidskit:v1.0 "
   ]
  },
  {
   "cell_type": "markdown",
   "metadata": {},
   "source": [
    "The following cell accepts your DICOM files as input and converts it into BIDS structured data. Please replace PATH_TO_YOUR_RAW_DICOM with the path to the root directory containing subjects' DICOM folders."
   ]
  },
  {
   "cell_type": "code",
   "execution_count": 12,
   "metadata": {},
   "outputs": [
    {
     "name": "stdout",
     "output_type": "stream",
     "text": [
      "docker: Error response from daemon: Mounts denied: \r",
      "\r\n",
      "The path /PATH_TO_YOUR_RAW_DICOM_FOLDER/\r",
      "\r\n",
      "is not shared from OS X and is not known to Docker.\r",
      "\r\n",
      "You can configure shared paths from Docker -> Preferences... -> File Sharing.\r",
      "\r\n",
      "See https://docs.docker.com/docker-for-mac/osxfs/#namespaces for more info.\r",
      "\r\n",
      ".\r\n"
     ]
    }
   ],
   "source": [
    "!docker run -it -v /PATH_TO_YOUR_RAW_DICOM_FOLDER/:/mnt rnair07/bidskit:v1.0 --indir=/mnt/DICOM --outdir=/mnt/BIDS"
   ]
  },
  {
   "cell_type": "markdown",
   "metadata": {},
   "source": [
    "Next, look for the Protocol_Translator.json file in the DICOM root directory. Open Protocol_Translator.json in a text editor and edit the BIDS name and directory values with the BIDS-compliant filenames. Detailed instructions are available on the source site: https://github.com/jmtyszka/bidskit\n",
    "\n",
    "Once edits have been made, run the cell below which basically repeats the above command using the info. from the Protocol Translator.json file to generate a BIDS compliant output folder within your root directory."
   ]
  },
  {
   "cell_type": "code",
   "execution_count": 13,
   "metadata": {
    "scrolled": true
   },
   "outputs": [
    {
     "name": "stdout",
     "output_type": "stream",
     "text": [
      "docker: Error response from daemon: Mounts denied: \r",
      "\r\n",
      "The path /PATH_TO_YOUR_RAW_DICOM_FOLDER/\r",
      "\r\n",
      "is not shared from OS X and is not known to Docker.\r",
      "\r\n",
      "You can configure shared paths from Docker -> Preferences... -> File Sharing.\r",
      "\r\n",
      "See https://docs.docker.com/docker-for-mac/osxfs/#namespaces for more info.\r",
      "\r\n",
      ".\r\n"
     ]
    }
   ],
   "source": [
    "!docker run -it -v /PATH_TO_YOUR_RAW_DICOM_FOLDER/:/mnt rnair07/bidskit:v1.0 --indir=/mnt/DICOM --outdir=/mnt/BIDS"
   ]
  }
 ],
 "metadata": {
  "kernelspec": {
   "display_name": "Python 3",
   "language": "python",
   "name": "python3"
  },
  "language_info": {
   "codemirror_mode": {
    "name": "ipython",
    "version": 3
   },
   "file_extension": ".py",
   "mimetype": "text/x-python",
   "name": "python",
   "nbconvert_exporter": "python",
   "pygments_lexer": "ipython3",
   "version": "3.6.2"
  }
 },
 "nbformat": 4,
 "nbformat_minor": 2
}
